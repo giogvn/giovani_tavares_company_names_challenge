{
 "cells": [
  {
   "cell_type": "code",
   "execution_count": 1,
   "metadata": {},
   "outputs": [],
   "source": [
    "import pandas as pd"
   ]
  },
  {
   "cell_type": "code",
   "execution_count": 2,
   "metadata": {},
   "outputs": [],
   "source": [
    "text = open(\"common_portuguese_mistakes_3.txt\", \"r\", encoding=\"utf-8\").read()\n",
    "text_lines = text.split(\"\\n\")\n",
    "corrected_text = []\n",
    "for line in text_lines:\n",
    "    try:\n",
    "        corrected_text.append(line.encode(\"latin1\").decode(\"utf-8\"))\n",
    "    except:\n",
    "        corrected_text.append(line)\n",
    "corrected_text = \"\\n\".join(corrected_text)"
   ]
  },
  {
   "cell_type": "code",
   "execution_count": null,
   "metadata": {},
   "outputs": [
    {
     "data": {
      "text/plain": [
       "(6586, 3)"
      ]
     },
     "execution_count": 6,
     "metadata": {},
     "output_type": "execute_result"
    }
   ],
   "source": [
    "tabular_data = [\n",
    "    line.replace(\"=>\", \"\").replace(\"  \", \" \").lower().split(\" \")\n",
    "    for line in corrected_text.split(\"\\n\")\n",
    "    if len(line.replace(\"=>\", \"\").replace(\"  \", \" \").split(\" \")) == 3\n",
    "]\n",
    "\n",
    "df = pd.DataFrame(tabular_data, columns=[\"frequency\", \"wrong\", \"right\"])"
   ]
  },
  {
   "cell_type": "code",
   "execution_count": 7,
   "metadata": {},
   "outputs": [],
   "source": [
    "df.query(\"wrong != right\").to_parquet(\"common_portuguese_mistakes_3.parquet\")"
   ]
  },
  {
   "cell_type": "code",
   "execution_count": null,
   "metadata": {},
   "outputs": [],
   "source": []
  }
 ],
 "metadata": {
  "kernelspec": {
   "display_name": "Python 3",
   "language": "python",
   "name": "python3"
  },
  "language_info": {
   "codemirror_mode": {
    "name": "ipython",
    "version": 3
   },
   "file_extension": ".py",
   "mimetype": "text/x-python",
   "name": "python",
   "nbconvert_exporter": "python",
   "pygments_lexer": "ipython3",
   "version": "3.8.10"
  }
 },
 "nbformat": 4,
 "nbformat_minor": 2
}
